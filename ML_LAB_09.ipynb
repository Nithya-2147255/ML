{
  "metadata": {
    "kernelspec": {
      "language": "python",
      "display_name": "Python 3",
      "name": "python3"
    },
    "language_info": {
      "name": "python",
      "version": "3.6.6",
      "mimetype": "text/x-python",
      "codemirror_mode": {
        "name": "ipython",
        "version": 3
      },
      "pygments_lexer": "ipython3",
      "nbconvert_exporter": "python",
      "file_extension": ".py"
    },
    "colab": {
      "provenance": []
    }
  },
  "nbformat_minor": 0,
  "nbformat": 4,
  "cells": [
    {
      "cell_type": "markdown",
      "source": [
        "**Imports and workspace setting**"
      ],
      "metadata": {
        "id": "16E5o6UCB6aF"
      }
    },
    {
      "cell_type": "code",
      "source": [
        "import numpy as np # linear algebra\n",
        "import pandas as pd # data processing, CSV file I/O (e.g. pd.read_csv)\n",
        "import tensorflow as tf\n",
        "from keras import backend as K\n",
        "from sklearn.model_selection import KFold, StratifiedKFold\n",
        "from sklearn.metrics import f1_score\n",
        "from tensorflow.keras.utils import plot_model\n",
        "\n",
        "import os\n",
        "for dirname, _, filenames in os.walk('/kaggle/input'):\n",
        "    for filename in filenames:\n",
        "        print(os.path.join(dirname, filename))\n",
        "\n",
        "%matplotlib inline"
      ],
      "metadata": {
        "_uuid": "8f2839f25d086af736a60e9eeb907d3b93b6e0e5",
        "_cell_guid": "b1076dfc-b9ad-4769-8c92-a6c4dae69d19",
        "execution": {
          "iopub.status.busy": "2022-09-21T10:41:35.407124Z",
          "iopub.execute_input": "2022-09-21T10:41:35.407450Z",
          "iopub.status.idle": "2022-09-21T10:41:38.806900Z",
          "shell.execute_reply.started": "2022-09-21T10:41:35.407400Z",
          "shell.execute_reply": "2022-09-21T10:41:38.805937Z"
        },
        "trusted": true,
        "id": "5lJCzoGaB6aL",
        "outputId": "e6c7f87c-2a5f-432f-cebc-7dac165bae0a"
      },
      "execution_count": null,
      "outputs": [
        {
          "name": "stderr",
          "text": "Using TensorFlow backend.\n",
          "output_type": "stream"
        },
        {
          "name": "stdout",
          "text": "/kaggle/input/uci-credit-approval-data-set/UCI_crx.csv\n",
          "output_type": "stream"
        }
      ]
    },
    {
      "cell_type": "markdown",
      "source": [
        "**Loading data**"
      ],
      "metadata": {
        "id": "f05CcV6XB6aQ"
      }
    },
    {
      "cell_type": "code",
      "source": [
        "dataset = pd.read_csv('../input/uci-credit-approval-data-set/UCI_crx.csv')\n",
        "dataset.shape"
      ],
      "metadata": {
        "_uuid": "d629ff2d2480ee46fbb7e2d37f6b5fab8052498a",
        "_cell_guid": "79c7e3d0-c299-4dcb-8224-4455121ee9b0",
        "execution": {
          "iopub.status.busy": "2022-09-21T10:41:43.332050Z",
          "iopub.execute_input": "2022-09-21T10:41:43.332428Z",
          "iopub.status.idle": "2022-09-21T10:41:43.358843Z",
          "shell.execute_reply.started": "2022-09-21T10:41:43.332370Z",
          "shell.execute_reply": "2022-09-21T10:41:43.357917Z"
        },
        "trusted": true,
        "id": "kRgj0747B6aR",
        "outputId": "920837b1-d5c5-4381-ad2b-b27b62366393"
      },
      "execution_count": null,
      "outputs": [
        {
          "execution_count": 2,
          "output_type": "execute_result",
          "data": {
            "text/plain": "(690, 16)"
          },
          "metadata": {}
        }
      ]
    },
    {
      "cell_type": "code",
      "source": [
        "dataset.head()"
      ],
      "metadata": {
        "execution": {
          "iopub.status.busy": "2022-09-21T10:41:45.916797Z",
          "iopub.execute_input": "2022-09-21T10:41:45.917118Z",
          "iopub.status.idle": "2022-09-21T10:41:45.956748Z",
          "shell.execute_reply.started": "2022-09-21T10:41:45.917068Z",
          "shell.execute_reply": "2022-09-21T10:41:45.955357Z"
        },
        "trusted": true,
        "id": "sdAagN7FB6aS",
        "outputId": "917b4499-d50f-43b4-b13a-7743caa8988f"
      },
      "execution_count": null,
      "outputs": [
        {
          "execution_count": 3,
          "output_type": "execute_result",
          "data": {
            "text/plain": "  A1     A2     A3 A4 A5 A6 A7    A8 A9 A10  A11 A12 A13    A14  A15 A16\n0  b  30.83  0.000  u  g  w  v  1.25  t   t    1   f   g  00202    0   +\n1  a  58.67  4.460  u  g  q  h  3.04  t   t    6   f   g  00043  560   +\n2  a  24.50  0.500  u  g  q  h  1.50  t   f    0   f   g  00280  824   +\n3  b  27.83  1.540  u  g  w  v  3.75  t   t    5   t   g  00100    3   +\n4  b  20.17  5.625  u  g  w  v  1.71  t   f    0   f   s  00120    0   +",
            "text/html": "<div>\n<style scoped>\n    .dataframe tbody tr th:only-of-type {\n        vertical-align: middle;\n    }\n\n    .dataframe tbody tr th {\n        vertical-align: top;\n    }\n\n    .dataframe thead th {\n        text-align: right;\n    }\n</style>\n<table border=\"1\" class=\"dataframe\">\n  <thead>\n    <tr style=\"text-align: right;\">\n      <th></th>\n      <th>A1</th>\n      <th>A2</th>\n      <th>A3</th>\n      <th>A4</th>\n      <th>A5</th>\n      <th>A6</th>\n      <th>A7</th>\n      <th>A8</th>\n      <th>A9</th>\n      <th>A10</th>\n      <th>A11</th>\n      <th>A12</th>\n      <th>A13</th>\n      <th>A14</th>\n      <th>A15</th>\n      <th>A16</th>\n    </tr>\n  </thead>\n  <tbody>\n    <tr>\n      <th>0</th>\n      <td>b</td>\n      <td>30.83</td>\n      <td>0.000</td>\n      <td>u</td>\n      <td>g</td>\n      <td>w</td>\n      <td>v</td>\n      <td>1.25</td>\n      <td>t</td>\n      <td>t</td>\n      <td>1</td>\n      <td>f</td>\n      <td>g</td>\n      <td>00202</td>\n      <td>0</td>\n      <td>+</td>\n    </tr>\n    <tr>\n      <th>1</th>\n      <td>a</td>\n      <td>58.67</td>\n      <td>4.460</td>\n      <td>u</td>\n      <td>g</td>\n      <td>q</td>\n      <td>h</td>\n      <td>3.04</td>\n      <td>t</td>\n      <td>t</td>\n      <td>6</td>\n      <td>f</td>\n      <td>g</td>\n      <td>00043</td>\n      <td>560</td>\n      <td>+</td>\n    </tr>\n    <tr>\n      <th>2</th>\n      <td>a</td>\n      <td>24.50</td>\n      <td>0.500</td>\n      <td>u</td>\n      <td>g</td>\n      <td>q</td>\n      <td>h</td>\n      <td>1.50</td>\n      <td>t</td>\n      <td>f</td>\n      <td>0</td>\n      <td>f</td>\n      <td>g</td>\n      <td>00280</td>\n      <td>824</td>\n      <td>+</td>\n    </tr>\n    <tr>\n      <th>3</th>\n      <td>b</td>\n      <td>27.83</td>\n      <td>1.540</td>\n      <td>u</td>\n      <td>g</td>\n      <td>w</td>\n      <td>v</td>\n      <td>3.75</td>\n      <td>t</td>\n      <td>t</td>\n      <td>5</td>\n      <td>t</td>\n      <td>g</td>\n      <td>00100</td>\n      <td>3</td>\n      <td>+</td>\n    </tr>\n    <tr>\n      <th>4</th>\n      <td>b</td>\n      <td>20.17</td>\n      <td>5.625</td>\n      <td>u</td>\n      <td>g</td>\n      <td>w</td>\n      <td>v</td>\n      <td>1.71</td>\n      <td>t</td>\n      <td>f</td>\n      <td>0</td>\n      <td>f</td>\n      <td>s</td>\n      <td>00120</td>\n      <td>0</td>\n      <td>+</td>\n    </tr>\n  </tbody>\n</table>\n</div>"
          },
          "metadata": {}
        }
      ]
    },
    {
      "cell_type": "markdown",
      "source": [
        "**Converting data types to tensor supported data types**"
      ],
      "metadata": {
        "id": "M9bBeBdwB6aT"
      }
    },
    {
      "cell_type": "code",
      "source": [
        "dataset.dtypes"
      ],
      "metadata": {
        "execution": {
          "iopub.status.busy": "2022-09-21T10:41:48.217725Z",
          "iopub.execute_input": "2022-09-21T10:41:48.218035Z",
          "iopub.status.idle": "2022-09-21T10:41:48.227309Z",
          "shell.execute_reply.started": "2022-09-21T10:41:48.217989Z",
          "shell.execute_reply": "2022-09-21T10:41:48.226061Z"
        },
        "trusted": true,
        "id": "6BmupUU8B6aU",
        "outputId": "f0fa00eb-fd87-4832-ec18-ff4bea75712d"
      },
      "execution_count": null,
      "outputs": [
        {
          "execution_count": 4,
          "output_type": "execute_result",
          "data": {
            "text/plain": "A1      object\nA2      object\nA3     float64\nA4      object\nA5      object\nA6      object\nA7      object\nA8     float64\nA9      object\nA10     object\nA11      int64\nA12     object\nA13     object\nA14     object\nA15      int64\nA16     object\ndtype: object"
          },
          "metadata": {}
        }
      ]
    },
    {
      "cell_type": "code",
      "source": [
        "for col in ['A1', 'A2','A4', 'A5', 'A6', 'A7', 'A9', 'A10', 'A12', 'A13', 'A14', 'A16']:\n",
        "    dataset[col] = pd.Categorical(dataset[col])\n",
        "    dataset[col] = dataset[col].cat.codes"
      ],
      "metadata": {
        "execution": {
          "iopub.status.busy": "2022-09-21T10:41:50.648367Z",
          "iopub.execute_input": "2022-09-21T10:41:50.648681Z",
          "iopub.status.idle": "2022-09-21T10:41:50.685002Z",
          "shell.execute_reply.started": "2022-09-21T10:41:50.648640Z",
          "shell.execute_reply": "2022-09-21T10:41:50.684104Z"
        },
        "trusted": true,
        "id": "wBiniocrB6aV"
      },
      "execution_count": null,
      "outputs": []
    },
    {
      "cell_type": "code",
      "source": [
        "dataset.dtypes"
      ],
      "metadata": {
        "execution": {
          "iopub.status.busy": "2022-09-21T10:41:53.090905Z",
          "iopub.execute_input": "2022-09-21T10:41:53.091263Z",
          "iopub.status.idle": "2022-09-21T10:41:53.099487Z",
          "shell.execute_reply.started": "2022-09-21T10:41:53.091194Z",
          "shell.execute_reply": "2022-09-21T10:41:53.098396Z"
        },
        "trusted": true,
        "id": "QNgl8apOB6aW",
        "outputId": "e45a6226-f98a-41e7-fc6a-f60f6b70eb29"
      },
      "execution_count": null,
      "outputs": [
        {
          "execution_count": 6,
          "output_type": "execute_result",
          "data": {
            "text/plain": "A1        int8\nA2       int16\nA3     float64\nA4        int8\nA5        int8\nA6        int8\nA7        int8\nA8     float64\nA9        int8\nA10       int8\nA11      int64\nA12       int8\nA13       int8\nA14      int16\nA15      int64\nA16       int8\ndtype: object"
          },
          "metadata": {}
        }
      ]
    },
    {
      "cell_type": "code",
      "source": [
        "dataset.head()"
      ],
      "metadata": {
        "execution": {
          "iopub.status.busy": "2022-09-21T10:41:55.566095Z",
          "iopub.execute_input": "2022-09-21T10:41:55.566466Z",
          "iopub.status.idle": "2022-09-21T10:41:55.585457Z",
          "shell.execute_reply.started": "2022-09-21T10:41:55.566396Z",
          "shell.execute_reply": "2022-09-21T10:41:55.584229Z"
        },
        "trusted": true,
        "id": "R1A-oog3B6aX",
        "outputId": "fc683550-f8a3-4ef1-be90-a2fcb2ae144b"
      },
      "execution_count": null,
      "outputs": [
        {
          "execution_count": 7,
          "output_type": "execute_result",
          "data": {
            "text/plain": "   A1   A2     A3  A4  A5  A6  A7    A8  A9  A10  A11  A12  A13  A14  A15  A16\n0   2  156  0.000   2   1  13   8  1.25   1    1    1    0    0   68    0    0\n1   1  328  4.460   2   1  11   4  3.04   1    1    6    0    0   11  560    0\n2   1   89  0.500   2   1  11   4  1.50   1    0    0    0    0   96  824    0\n3   2  125  1.540   2   1  13   8  3.75   1    1    5    1    0   31    3    0\n4   2   43  5.625   2   1  13   8  1.71   1    0    0    0    2   37    0    0",
            "text/html": "<div>\n<style scoped>\n    .dataframe tbody tr th:only-of-type {\n        vertical-align: middle;\n    }\n\n    .dataframe tbody tr th {\n        vertical-align: top;\n    }\n\n    .dataframe thead th {\n        text-align: right;\n    }\n</style>\n<table border=\"1\" class=\"dataframe\">\n  <thead>\n    <tr style=\"text-align: right;\">\n      <th></th>\n      <th>A1</th>\n      <th>A2</th>\n      <th>A3</th>\n      <th>A4</th>\n      <th>A5</th>\n      <th>A6</th>\n      <th>A7</th>\n      <th>A8</th>\n      <th>A9</th>\n      <th>A10</th>\n      <th>A11</th>\n      <th>A12</th>\n      <th>A13</th>\n      <th>A14</th>\n      <th>A15</th>\n      <th>A16</th>\n    </tr>\n  </thead>\n  <tbody>\n    <tr>\n      <th>0</th>\n      <td>2</td>\n      <td>156</td>\n      <td>0.000</td>\n      <td>2</td>\n      <td>1</td>\n      <td>13</td>\n      <td>8</td>\n      <td>1.25</td>\n      <td>1</td>\n      <td>1</td>\n      <td>1</td>\n      <td>0</td>\n      <td>0</td>\n      <td>68</td>\n      <td>0</td>\n      <td>0</td>\n    </tr>\n    <tr>\n      <th>1</th>\n      <td>1</td>\n      <td>328</td>\n      <td>4.460</td>\n      <td>2</td>\n      <td>1</td>\n      <td>11</td>\n      <td>4</td>\n      <td>3.04</td>\n      <td>1</td>\n      <td>1</td>\n      <td>6</td>\n      <td>0</td>\n      <td>0</td>\n      <td>11</td>\n      <td>560</td>\n      <td>0</td>\n    </tr>\n    <tr>\n      <th>2</th>\n      <td>1</td>\n      <td>89</td>\n      <td>0.500</td>\n      <td>2</td>\n      <td>1</td>\n      <td>11</td>\n      <td>4</td>\n      <td>1.50</td>\n      <td>1</td>\n      <td>0</td>\n      <td>0</td>\n      <td>0</td>\n      <td>0</td>\n      <td>96</td>\n      <td>824</td>\n      <td>0</td>\n    </tr>\n    <tr>\n      <th>3</th>\n      <td>2</td>\n      <td>125</td>\n      <td>1.540</td>\n      <td>2</td>\n      <td>1</td>\n      <td>13</td>\n      <td>8</td>\n      <td>3.75</td>\n      <td>1</td>\n      <td>1</td>\n      <td>5</td>\n      <td>1</td>\n      <td>0</td>\n      <td>31</td>\n      <td>3</td>\n      <td>0</td>\n    </tr>\n    <tr>\n      <th>4</th>\n      <td>2</td>\n      <td>43</td>\n      <td>5.625</td>\n      <td>2</td>\n      <td>1</td>\n      <td>13</td>\n      <td>8</td>\n      <td>1.71</td>\n      <td>1</td>\n      <td>0</td>\n      <td>0</td>\n      <td>0</td>\n      <td>2</td>\n      <td>37</td>\n      <td>0</td>\n      <td>0</td>\n    </tr>\n  </tbody>\n</table>\n</div>"
          },
          "metadata": {}
        }
      ]
    },
    {
      "cell_type": "markdown",
      "source": [
        "**Normalizing input and output vectors**\n",
        "\n",
        "Scale and normalize to make the magnitude of the features similar. Most popular methods for neumerical data are Min Max normalization and Standard normalization (z score). This will improve the model performance and convergence.\n",
        "\n",
        "https://visualstudiomagazine.com/articles/2014/01/01/how-to-standardize-data-for-neural-networks.aspx\n",
        "https://machinelearningmastery.com/how-to-improve-neural-network-stability-and-modeling-performance-with-data-scaling/"
      ],
      "metadata": {
        "id": "b7H8ppcuB6aX"
      }
    },
    {
      "cell_type": "code",
      "source": [
        "# create scaler\n",
        "from sklearn.preprocessing import MinMaxScaler\n",
        "scaler = MinMaxScaler()\n",
        "dataset = pd.DataFrame(scaler.fit_transform(dataset))\n",
        "\n",
        "dataset.describe()"
      ],
      "metadata": {
        "execution": {
          "iopub.status.busy": "2022-09-21T10:41:58.242665Z",
          "iopub.execute_input": "2022-09-21T10:41:58.243016Z",
          "iopub.status.idle": "2022-09-21T10:41:58.319070Z",
          "shell.execute_reply.started": "2022-09-21T10:41:58.242962Z",
          "shell.execute_reply": "2022-09-21T10:41:58.318249Z"
        },
        "trusted": true,
        "id": "S5em69y8B6aY",
        "outputId": "d2f35c9c-486d-4b1c-ed91-545f726c2f97"
      },
      "execution_count": null,
      "outputs": [
        {
          "execution_count": 8,
          "output_type": "execute_result",
          "data": {
            "text/plain": "               0           1           2           3           4           5   \\\ncount  690.000000  690.000000  690.000000  690.000000  690.000000  690.000000   \nmean     0.830435    0.431315    0.169954    0.738647    0.488889    0.476605   \nstd      0.254597    0.275613    0.177792    0.159029    0.286709    0.308590   \nmin      0.000000    0.000000    0.000000    0.000000    0.000000    0.000000   \n25%      0.500000    0.203438    0.035714    0.666667    0.333333    0.142857   \n50%      1.000000    0.382521    0.098214    0.666667    0.333333    0.428571   \n75%      1.000000    0.647564    0.257411    0.666667    0.333333    0.785714   \nmax      1.000000    1.000000    1.000000    1.000000    1.000000    1.000000   \n\n               6           7           8           9           10          11  \\\ncount  690.000000  690.000000  690.000000  690.000000  690.000000  690.000000   \nmean     0.666023    0.078014    0.523188    0.427536    0.035821    0.457971   \nstd      0.288278    0.117422    0.499824    0.495080    0.072581    0.498592   \nmin      0.000000    0.000000    0.000000    0.000000    0.000000    0.000000   \n25%      0.444444    0.005789    0.000000    0.000000    0.000000    0.000000   \n50%      0.888889    0.035088    1.000000    0.000000    0.000000    0.000000   \n75%      0.888889    0.092105    1.000000    1.000000    0.044776    1.000000   \nmax      1.000000    1.000000    1.000000    1.000000    1.000000    1.000000   \n\n               12          13          14          15  \ncount  690.000000  690.000000  690.000000  690.000000  \nmean     0.088406    0.349369    0.010174    0.555072  \nstd      0.278934    0.283716    0.052101    0.497318  \nmin      0.000000    0.000000    0.000000    0.000000  \n25%      0.000000    0.135294    0.000000    0.000000  \n50%      0.000000    0.305882    0.000050    1.000000  \n75%      0.000000    0.564706    0.003955    1.000000  \nmax      1.000000    1.000000    1.000000    1.000000  ",
            "text/html": "<div>\n<style scoped>\n    .dataframe tbody tr th:only-of-type {\n        vertical-align: middle;\n    }\n\n    .dataframe tbody tr th {\n        vertical-align: top;\n    }\n\n    .dataframe thead th {\n        text-align: right;\n    }\n</style>\n<table border=\"1\" class=\"dataframe\">\n  <thead>\n    <tr style=\"text-align: right;\">\n      <th></th>\n      <th>0</th>\n      <th>1</th>\n      <th>2</th>\n      <th>3</th>\n      <th>4</th>\n      <th>5</th>\n      <th>6</th>\n      <th>7</th>\n      <th>8</th>\n      <th>9</th>\n      <th>10</th>\n      <th>11</th>\n      <th>12</th>\n      <th>13</th>\n      <th>14</th>\n      <th>15</th>\n    </tr>\n  </thead>\n  <tbody>\n    <tr>\n      <th>count</th>\n      <td>690.000000</td>\n      <td>690.000000</td>\n      <td>690.000000</td>\n      <td>690.000000</td>\n      <td>690.000000</td>\n      <td>690.000000</td>\n      <td>690.000000</td>\n      <td>690.000000</td>\n      <td>690.000000</td>\n      <td>690.000000</td>\n      <td>690.000000</td>\n      <td>690.000000</td>\n      <td>690.000000</td>\n      <td>690.000000</td>\n      <td>690.000000</td>\n      <td>690.000000</td>\n    </tr>\n    <tr>\n      <th>mean</th>\n      <td>0.830435</td>\n      <td>0.431315</td>\n      <td>0.169954</td>\n      <td>0.738647</td>\n      <td>0.488889</td>\n      <td>0.476605</td>\n      <td>0.666023</td>\n      <td>0.078014</td>\n      <td>0.523188</td>\n      <td>0.427536</td>\n      <td>0.035821</td>\n      <td>0.457971</td>\n      <td>0.088406</td>\n      <td>0.349369</td>\n      <td>0.010174</td>\n      <td>0.555072</td>\n    </tr>\n    <tr>\n      <th>std</th>\n      <td>0.254597</td>\n      <td>0.275613</td>\n      <td>0.177792</td>\n      <td>0.159029</td>\n      <td>0.286709</td>\n      <td>0.308590</td>\n      <td>0.288278</td>\n      <td>0.117422</td>\n      <td>0.499824</td>\n      <td>0.495080</td>\n      <td>0.072581</td>\n      <td>0.498592</td>\n      <td>0.278934</td>\n      <td>0.283716</td>\n      <td>0.052101</td>\n      <td>0.497318</td>\n    </tr>\n    <tr>\n      <th>min</th>\n      <td>0.000000</td>\n      <td>0.000000</td>\n      <td>0.000000</td>\n      <td>0.000000</td>\n      <td>0.000000</td>\n      <td>0.000000</td>\n      <td>0.000000</td>\n      <td>0.000000</td>\n      <td>0.000000</td>\n      <td>0.000000</td>\n      <td>0.000000</td>\n      <td>0.000000</td>\n      <td>0.000000</td>\n      <td>0.000000</td>\n      <td>0.000000</td>\n      <td>0.000000</td>\n    </tr>\n    <tr>\n      <th>25%</th>\n      <td>0.500000</td>\n      <td>0.203438</td>\n      <td>0.035714</td>\n      <td>0.666667</td>\n      <td>0.333333</td>\n      <td>0.142857</td>\n      <td>0.444444</td>\n      <td>0.005789</td>\n      <td>0.000000</td>\n      <td>0.000000</td>\n      <td>0.000000</td>\n      <td>0.000000</td>\n      <td>0.000000</td>\n      <td>0.135294</td>\n      <td>0.000000</td>\n      <td>0.000000</td>\n    </tr>\n    <tr>\n      <th>50%</th>\n      <td>1.000000</td>\n      <td>0.382521</td>\n      <td>0.098214</td>\n      <td>0.666667</td>\n      <td>0.333333</td>\n      <td>0.428571</td>\n      <td>0.888889</td>\n      <td>0.035088</td>\n      <td>1.000000</td>\n      <td>0.000000</td>\n      <td>0.000000</td>\n      <td>0.000000</td>\n      <td>0.000000</td>\n      <td>0.305882</td>\n      <td>0.000050</td>\n      <td>1.000000</td>\n    </tr>\n    <tr>\n      <th>75%</th>\n      <td>1.000000</td>\n      <td>0.647564</td>\n      <td>0.257411</td>\n      <td>0.666667</td>\n      <td>0.333333</td>\n      <td>0.785714</td>\n      <td>0.888889</td>\n      <td>0.092105</td>\n      <td>1.000000</td>\n      <td>1.000000</td>\n      <td>0.044776</td>\n      <td>1.000000</td>\n      <td>0.000000</td>\n      <td>0.564706</td>\n      <td>0.003955</td>\n      <td>1.000000</td>\n    </tr>\n    <tr>\n      <th>max</th>\n      <td>1.000000</td>\n      <td>1.000000</td>\n      <td>1.000000</td>\n      <td>1.000000</td>\n      <td>1.000000</td>\n      <td>1.000000</td>\n      <td>1.000000</td>\n      <td>1.000000</td>\n      <td>1.000000</td>\n      <td>1.000000</td>\n      <td>1.000000</td>\n      <td>1.000000</td>\n      <td>1.000000</td>\n      <td>1.000000</td>\n      <td>1.000000</td>\n      <td>1.000000</td>\n    </tr>\n  </tbody>\n</table>\n</div>"
          },
          "metadata": {}
        }
      ]
    },
    {
      "cell_type": "code",
      "source": [
        "X=dataset.iloc[:,0:15].values   #0:15\n",
        "Y=dataset.iloc[:,15:16].values"
      ],
      "metadata": {
        "execution": {
          "iopub.status.busy": "2022-09-21T10:42:00.916188Z",
          "iopub.execute_input": "2022-09-21T10:42:00.916584Z",
          "iopub.status.idle": "2022-09-21T10:42:00.922346Z",
          "shell.execute_reply.started": "2022-09-21T10:42:00.916521Z",
          "shell.execute_reply": "2022-09-21T10:42:00.921447Z"
        },
        "trusted": true,
        "id": "qNN8tpnyB6aZ"
      },
      "execution_count": null,
      "outputs": []
    },
    {
      "cell_type": "code",
      "source": [
        "np.random.seed(42) # Makes the random numbers predictable for easy comparison of models"
      ],
      "metadata": {
        "execution": {
          "iopub.status.busy": "2022-09-21T10:42:06.474444Z",
          "iopub.execute_input": "2022-09-21T10:42:06.474784Z",
          "iopub.status.idle": "2022-09-21T10:42:06.480395Z",
          "shell.execute_reply.started": "2022-09-21T10:42:06.474731Z",
          "shell.execute_reply": "2022-09-21T10:42:06.479191Z"
        },
        "trusted": true,
        "id": "XRFIAQ8IB6aZ"
      },
      "execution_count": null,
      "outputs": []
    },
    {
      "cell_type": "markdown",
      "source": [
        "**Create the model generator function**\n",
        "\n",
        "Deciding neuron count in each layer and number of hidden layers is difficult and there is no straightforward answer to this.\n",
        "\n",
        "https://www.heatonresearch.com/2017/06/01/hidden-layers.html\n",
        "\n",
        "https://stats.stackexchange.com/questions/181/how-to-choose-the-number-of-hidden-layers-and-nodes-in-a-feedforward-neural-netw"
      ],
      "metadata": {
        "id": "7Ih4hL9KB6aa"
      }
    },
    {
      "cell_type": "code",
      "source": [
        "## Set these parameter before calling create_model function\n",
        "depthOfNetwork = 3\n",
        "neuronCountInEachLayer = [16, 9, 1]                                 # try different depth and width\n",
        "activationFuncEachLayer = ['sigmoid', 'relu', 'sigmoid']            # try values relu, sigmoid, talh\n",
        "lossFunction = 'binary_crossentropy'                                # try values binary_crossentropy, mean_squared_error\n",
        "regularizerFunc = tf.keras.regularizers.l2(0)                       # try l1 and l2 with different lambda\n",
        "\n",
        "\n",
        "def create_model(verbose=False):\n",
        "  model = tf.keras.models.Sequential()\n",
        "  \n",
        "  if verbose:\n",
        "        print('Network configuration ',neuronCountInEachLayer)\n",
        "  \n",
        "  model.add(tf.keras.layers.Dense(neuronCountInEachLayer[0], input_dim=15, activation = activationFuncEachLayer[0], kernel_regularizer=regularizerFunc)) # First Layer\n",
        "    \n",
        "  for x in range(1, depthOfNetwork-1):\n",
        "      model.add(tf.keras.layers.Dense(neuronCountInEachLayer[x], activation = activationFuncEachLayer[x],kernel_regularizer=regularizerFunc))         # Second layer onwards\n",
        " \n",
        "  model.add(tf.keras.layers.Dense(neuronCountInEachLayer[depthOfNetwork-1], activation = activationFuncEachLayer[depthOfNetwork-1]))  # Output layer\n",
        "    \n",
        "  model.compile(loss = lossFunction , optimizer = 'adam' , metrics = ['accuracy'] ) \n",
        "        \n",
        "  return model"
      ],
      "metadata": {
        "execution": {
          "iopub.status.busy": "2022-09-21T10:42:09.087817Z",
          "iopub.execute_input": "2022-09-21T10:42:09.088168Z",
          "iopub.status.idle": "2022-09-21T10:42:09.099187Z",
          "shell.execute_reply.started": "2022-09-21T10:42:09.088127Z",
          "shell.execute_reply": "2022-09-21T10:42:09.097997Z"
        },
        "trusted": true,
        "id": "c7y55hcjB6ab"
      },
      "execution_count": null,
      "outputs": []
    },
    {
      "cell_type": "markdown",
      "source": [
        "**Visualizing a single model for ease of understanding**"
      ],
      "metadata": {
        "id": "d8Av1IY4B6ac"
      }
    },
    {
      "cell_type": "code",
      "source": [
        "depthOfNetwork = 3\n",
        "neuronCountInEachLayer = [17, 8, 1]                                 # try different depth and width\n",
        "activationFuncEachLayer = ['sigmoid', 'relu', 'sigmoid']            # try values relu, sigmoid, talh\n",
        "lossFunction = 'binary_crossentropy'                                # try values binary_crossentropy, mean_squared_error\n",
        "regularizerFunc = tf.keras.regularizers.l2(0)                       # try l1 and l2 with different lambda\n",
        "\n",
        "model=create_model()\n",
        "plot_model(model, to_file='model.png', show_shapes=True, show_layer_names=True)"
      ],
      "metadata": {
        "execution": {
          "iopub.status.busy": "2022-09-21T10:42:18.358503Z",
          "iopub.execute_input": "2022-09-21T10:42:18.359563Z",
          "iopub.status.idle": "2022-09-21T10:42:18.782858Z",
          "shell.execute_reply.started": "2022-09-21T10:42:18.359492Z",
          "shell.execute_reply": "2022-09-21T10:42:18.781955Z"
        },
        "trusted": true,
        "id": "wArer3mRB6ad",
        "outputId": "6208a1a9-b8b0-49cf-e3ee-65e77e712e71"
      },
      "execution_count": null,
      "outputs": [
        {
          "execution_count": 12,
          "output_type": "execute_result",
          "data": {
            "image/png": "[encoded data removed]",
            "text/plain": "<IPython.core.display.Image object>"
          },
          "metadata": {}
        }
      ]
    },
    {
      "cell_type": "markdown",
      "source": [
        "**Define the evaluator function**"
      ],
      "metadata": {
        "id": "mBMlz7sDB6ae"
      }
    },
    {
      "cell_type": "code",
      "source": [
        "def evaluateTheModel(verbose=False):\n",
        "    n_split=5\n",
        "    f1_scores = []\n",
        "\n",
        "    for train_index,test_index in StratifiedKFold(n_split).split(X, Y):      # StratifiedKFold, KFold\n",
        "        x_train,x_test=X[train_index],X[test_index]\n",
        "        y_train,y_test=Y[train_index],Y[test_index]\n",
        "\n",
        "        model=create_model(verbose)\n",
        "        model.fit(x_train, y_train,epochs=100, verbose=0)\n",
        "        evaluationMetrics = model.evaluate(x_test,y_test, verbose=0)\n",
        "        \n",
        "        if verbose:\n",
        "            print('Model evaluation ',evaluationMetrics)   # This returns metric values for the evaluation\n",
        "\n",
        "        y_pred = np.where(model.predict(x_test) > 0.5, 1, 0)\n",
        "        f1 = f1_score(y_test, y_pred , average=\"macro\")\n",
        "\n",
        "        if verbose:\n",
        "            print('F1 score is ', f1)\n",
        "        \n",
        "        f1_scores.append(f1)\n",
        "    \n",
        "    return np.mean(f1_scores)"
      ],
      "metadata": {
        "execution": {
          "iopub.status.busy": "2022-09-21T10:42:21.565526Z",
          "iopub.execute_input": "2022-09-21T10:42:21.565921Z",
          "iopub.status.idle": "2022-09-21T10:42:21.575118Z",
          "shell.execute_reply.started": "2022-09-21T10:42:21.565854Z",
          "shell.execute_reply": "2022-09-21T10:42:21.574169Z"
        },
        "trusted": true,
        "id": "iPGCFa_6B6af"
      },
      "execution_count": null,
      "outputs": []
    },
    {
      "cell_type": "markdown",
      "source": [
        "**Verbose mode of the function to see F1 scores of each fold**"
      ],
      "metadata": {
        "id": "nE9jmEeWB6ag"
      }
    },
    {
      "cell_type": "code",
      "source": [
        "depthOfNetwork = 2\n",
        "neuronCountInEachLayer = [2, 1]                                 # try different depth and width\n",
        "activationFuncEachLayer = ['sigmoid', 'sigmoid']            # try values relu, sigmoid, talh\n",
        "lossFunction = 'binary_crossentropy'                                # try values binary_crossentropy, mean_squared_error\n",
        "regularizerFunc = tf.keras.regularizers.l2(0)                       # try l1 and l2 with different lambda\n",
        "\n",
        "evaluateTheModel(True)"
      ],
      "metadata": {
        "execution": {
          "iopub.status.busy": "2022-09-21T10:42:44.105555Z",
          "iopub.execute_input": "2022-09-21T10:42:44.105925Z",
          "iopub.status.idle": "2022-09-21T10:43:01.257451Z",
          "shell.execute_reply.started": "2022-09-21T10:42:44.105864Z",
          "shell.execute_reply": "2022-09-21T10:43:01.256523Z"
        },
        "trusted": true,
        "id": "_Kcz3JltB6ah",
        "outputId": "90459164-972a-4066-9c85-e9293c37f37c"
      },
      "execution_count": null,
      "outputs": [
        {
          "name": "stdout",
          "text": "Network configuration  [2, 1]\nModel evaluation  [0.586880755939072, 0.68345326]\nF1 score is  0.6814583333333334\nNetwork configuration  [2, 1]\nModel evaluation  [0.4185366113837674, 0.94244605]\nF1 score is  0.9411016949152542\nNetwork configuration  [2, 1]\nModel evaluation  [0.48107396778853045, 0.84782606]\nF1 score is  0.8360396039603961\nNetwork configuration  [2, 1]\nModel evaluation  [0.5134638785010707, 0.79562044]\nF1 score is  0.7942942942942943\nNetwork configuration  [2, 1]\nModel evaluation  [0.38994526188739026, 0.8978102]\nF1 score is  0.8936807095343682\n",
          "output_type": "stream"
        },
        {
          "execution_count": 14,
          "output_type": "execute_result",
          "data": {
            "text/plain": "0.8293149272075292"
          },
          "metadata": {}
        }
      ]
    },
    {
      "cell_type": "markdown",
      "source": [
        "**Experiment with chaning the first layer neuron count**"
      ],
      "metadata": {
        "id": "JOshAo6iB6ai"
      }
    },
    {
      "cell_type": "code",
      "source": [
        "depthOfNetwork = 2\n",
        "neuronCountInEachLayer = [15, 1]                                 # try different depth and width\n",
        "activationFuncEachLayer = ['sigmoid', 'sigmoid']            # try values relu, sigmoid, talh\n",
        "lossFunction = 'binary_crossentropy'                                # try values binary_crossentropy, mean_squared_error\n",
        "regularizerFunc = tf.keras.regularizers.l2(0)                       # try l1 and l2 with different lambda\n",
        "\n",
        "for i in range (3, 20):\n",
        "    neuronCountInEachLayer = [i, 1]\n",
        "    print(\"'Node count : % 3d, Mean F1 score : % 10.5f\" %(i, evaluateTheModel())) "
      ],
      "metadata": {
        "execution": {
          "iopub.status.busy": "2022-09-21T10:43:06.808309Z",
          "iopub.execute_input": "2022-09-21T10:43:06.808624Z",
          "iopub.status.idle": "2022-09-21T10:48:16.292603Z",
          "shell.execute_reply.started": "2022-09-21T10:43:06.808577Z",
          "shell.execute_reply": "2022-09-21T10:48:16.291423Z"
        },
        "trusted": true,
        "id": "N4_TbBaYB6ai",
        "outputId": "c3ee95d1-e536-4293-d998-2e7e005afbee"
      },
      "execution_count": null,
      "outputs": [
        {
          "name": "stdout",
          "text": "'Node count :   3, Mean F1 score :    0.83909\n'Node count :   4, Mean F1 score :    0.84245\n'Node count :   5, Mean F1 score :    0.83721\n'Node count :   6, Mean F1 score :    0.85083\n'Node count :   7, Mean F1 score :    0.84686\n'Node count :   8, Mean F1 score :    0.84513\n'Node count :   9, Mean F1 score :    0.84322\n'Node count :  10, Mean F1 score :    0.84802\n'Node count :  11, Mean F1 score :    0.84982\n'Node count :  12, Mean F1 score :    0.84353\n'Node count :  13, Mean F1 score :    0.84670\n'Node count :  14, Mean F1 score :    0.84910\n'Node count :  15, Mean F1 score :    0.84518\n'Node count :  16, Mean F1 score :    0.85077\n'Node count :  17, Mean F1 score :    0.85546\n'Node count :  18, Mean F1 score :    0.85218\n'Node count :  19, Mean F1 score :    0.85519\n",
          "output_type": "stream"
        }
      ]
    },
    {
      "cell_type": "code",
      "source": [
        "depthOfNetwork = 2\n",
        "neuronCountInEachLayer = [15, 1]                                 # try different depth and width\n",
        "activationFuncEachLayer = ['relu', 'sigmoid']            # try values relu, sigmoid, talh\n",
        "lossFunction = 'binary_crossentropy'                                # try values binary_crossentropy, mean_squared_error\n",
        "regularizerFunc = tf.keras.regularizers.l2(0)                       # try l1 and l2 with different lambda\n",
        "\n",
        "for i in range (3, 20):\n",
        "    neuronCountInEachLayer = [i, 1]\n",
        "    print(\"'Node count : % 3d, Mean F1 score : % 10.5f\" %(i, evaluateTheModel())) "
      ],
      "metadata": {
        "execution": {
          "iopub.status.busy": "2022-09-21T10:48:24.863413Z",
          "iopub.execute_input": "2022-09-21T10:48:24.863812Z",
          "iopub.status.idle": "2022-09-21T10:53:30.876105Z",
          "shell.execute_reply.started": "2022-09-21T10:48:24.863742Z",
          "shell.execute_reply": "2022-09-21T10:53:30.875423Z"
        },
        "trusted": true,
        "id": "vE4RghqbB6aj",
        "outputId": "ba70953b-a0f8-4995-862d-a96fa1dc395c"
      },
      "execution_count": null,
      "outputs": [
        {
          "name": "stdout",
          "text": "'Node count :   3, Mean F1 score :    0.84021\n'Node count :   4, Mean F1 score :    0.84587\n'Node count :   5, Mean F1 score :    0.85450\n'Node count :   6, Mean F1 score :    0.84581\n'Node count :   7, Mean F1 score :    0.85203\n'Node count :   8, Mean F1 score :    0.84137\n'Node count :   9, Mean F1 score :    0.84894\n'Node count :  10, Mean F1 score :    0.84973\n'Node count :  11, Mean F1 score :    0.85346\n'Node count :  12, Mean F1 score :    0.84623\n'Node count :  13, Mean F1 score :    0.85046\n'Node count :  14, Mean F1 score :    0.85388\n'Node count :  15, Mean F1 score :    0.85196\n'Node count :  16, Mean F1 score :    0.84589\n'Node count :  17, Mean F1 score :    0.85091\n'Node count :  18, Mean F1 score :    0.84477\n'Node count :  19, Mean F1 score :    0.84144\n",
          "output_type": "stream"
        }
      ]
    },
    {
      "cell_type": "code",
      "source": [
        "depthOfNetwork = 2\n",
        "neuronCountInEachLayer = [15, 1]                                 # try different depth and width\n",
        "activationFuncEachLayer = ['tanh', 'sigmoid']            # try values relu, sigmoid, talh\n",
        "lossFunction = 'binary_crossentropy'                                # try values binary_crossentropy, mean_squared_error\n",
        "regularizerFunc = tf.keras.regularizers.l2(0)                       # try l1 and l2 with different lambda\n",
        "\n",
        "for i in range (3, 20):\n",
        "    neuronCountInEachLayer = [i, 1]\n",
        "    print(\"'Node count : % 3d, Mean F1 score : % 10.5f\" %(i, evaluateTheModel())) "
      ],
      "metadata": {
        "execution": {
          "iopub.status.busy": "2022-09-21T10:53:41.248406Z",
          "iopub.execute_input": "2022-09-21T10:53:41.248864Z",
          "iopub.status.idle": "2022-09-21T10:58:59.064058Z",
          "shell.execute_reply.started": "2022-09-21T10:53:41.248822Z",
          "shell.execute_reply": "2022-09-21T10:58:59.062789Z"
        },
        "trusted": true,
        "id": "6mopNTQ8B6ak",
        "outputId": "785164aa-4914-4129-aeb4-92b140bc7d33"
      },
      "execution_count": null,
      "outputs": [
        {
          "name": "stdout",
          "text": "'Node count :   3, Mean F1 score :    0.85135\n'Node count :   4, Mean F1 score :    0.83962\n'Node count :   5, Mean F1 score :    0.84921\n'Node count :   6, Mean F1 score :    0.84617\n'Node count :   7, Mean F1 score :    0.85219\n'Node count :   8, Mean F1 score :    0.85519\n'Node count :   9, Mean F1 score :    0.84432\n'Node count :  10, Mean F1 score :    0.85554\n'Node count :  11, Mean F1 score :    0.84800\n'Node count :  12, Mean F1 score :    0.85233\n'Node count :  13, Mean F1 score :    0.84774\n'Node count :  14, Mean F1 score :    0.84587\n'Node count :  15, Mean F1 score :    0.84777\n'Node count :  16, Mean F1 score :    0.85499\n'Node count :  17, Mean F1 score :    0.85038\n'Node count :  18, Mean F1 score :    0.85208\n'Node count :  19, Mean F1 score :    0.85038\n",
          "output_type": "stream"
        }
      ]
    },
    {
      "cell_type": "code",
      "source": [
        "depthOfNetwork = 2\n",
        "neuronCountInEachLayer = [15, 1]                                 # try different depth and width\n",
        "activationFuncEachLayer = ['tanh', 'sigmoid']            # try values relu, sigmoid, talh\n",
        "lossFunction = 'mean_squared_error'                                # try values binary_crossentropy, mean_squared_error\n",
        "regularizerFunc = tf.keras.regularizers.l2(0)                       # try l1 and l2 with different lambda\n",
        "\n",
        "for i in range (3, 20):\n",
        "    neuronCountInEachLayer = [i, 1]\n",
        "    print(\"'Node count : % 3d, Mean F1 score : % 10.5f\" %(i, evaluateTheModel())) "
      ],
      "metadata": {
        "execution": {
          "iopub.status.busy": "2022-09-21T10:59:40.075510Z",
          "iopub.execute_input": "2022-09-21T10:59:40.075856Z",
          "iopub.status.idle": "2022-09-21T11:04:41.768258Z",
          "shell.execute_reply.started": "2022-09-21T10:59:40.075812Z",
          "shell.execute_reply": "2022-09-21T11:04:41.767438Z"
        },
        "trusted": true,
        "id": "BQ5v3dNzB6al",
        "outputId": "b865723c-cb3f-4062-a120-c17e6ca360b9"
      },
      "execution_count": null,
      "outputs": [
        {
          "name": "stdout",
          "text": "'Node count :   3, Mean F1 score :    0.84614\n'Node count :   4, Mean F1 score :    0.84663\n'Node count :   5, Mean F1 score :    0.84309\n'Node count :   6, Mean F1 score :    0.84465\n'Node count :   7, Mean F1 score :    0.84302\n'Node count :   8, Mean F1 score :    0.84329\n'Node count :   9, Mean F1 score :    0.84200\n'Node count :  10, Mean F1 score :    0.84635\n'Node count :  11, Mean F1 score :    0.83705\n'Node count :  12, Mean F1 score :    0.83852\n'Node count :  13, Mean F1 score :    0.83997\n'Node count :  14, Mean F1 score :    0.84323\n'Node count :  15, Mean F1 score :    0.83697\n'Node count :  16, Mean F1 score :    0.84012\n'Node count :  17, Mean F1 score :    0.83982\n'Node count :  18, Mean F1 score :    0.83701\n'Node count :  19, Mean F1 score :    0.83884\n",
          "output_type": "stream"
        }
      ]
    },
    {
      "cell_type": "markdown",
      "source": [
        "**Experiment with chaning 2nd layer neuron count while keeping width to 15 neurons**"
      ],
      "metadata": {
        "id": "F61L4UMOB6al"
      }
    },
    {
      "cell_type": "code",
      "source": [
        "depthOfNetwork = 3\n",
        "neuronCountInEachLayer = [18, 9, 1]                                 # try different depth and width\n",
        "activationFuncEachLayer = ['tanh', 'tanh', 'sigmoid']            # try values relu, sigmoid, talh\n",
        "lossFunction = 'binary_crossentropy'                                # try values binary_crossentropy, mean_squared_error\n",
        "regularizerFunc = tf.keras.regularizers.l2(0)                       # try l1 and l2 with different lambda\n",
        "\n",
        "for i in range (15, 16):\n",
        "    for j in range (3, 20):\n",
        "        neuronCountInEachLayer = [i, j, 1]\n",
        "        print(\"'Neurons [% 3d, % 3d], Mean F1 score : % 10.5f\" %(i, j, evaluateTheModel())) "
      ],
      "metadata": {
        "execution": {
          "iopub.status.busy": "2022-09-21T11:05:51.515082Z",
          "iopub.execute_input": "2022-09-21T11:05:51.515436Z",
          "iopub.status.idle": "2022-09-21T11:11:33.575467Z",
          "shell.execute_reply.started": "2022-09-21T11:05:51.515384Z",
          "shell.execute_reply": "2022-09-21T11:11:33.574551Z"
        },
        "trusted": true,
        "id": "tJFWa8JgB6am",
        "outputId": "0fef4c1c-a8ee-42a4-d78f-a48e4c73fbf5"
      },
      "execution_count": null,
      "outputs": [
        {
          "name": "stdout",
          "text": "'Neurons [ 15,   3], Mean F1 score :    0.84038\n'Neurons [ 15,   4], Mean F1 score :    0.84023\n'Neurons [ 15,   5], Mean F1 score :    0.84361\n'Neurons [ 15,   6], Mean F1 score :    0.83985\n'Neurons [ 15,   7], Mean F1 score :    0.84006\n'Neurons [ 15,   8], Mean F1 score :    0.83847\n'Neurons [ 15,   9], Mean F1 score :    0.83742\n'Neurons [ 15,  10], Mean F1 score :    0.84144\n'Neurons [ 15,  11], Mean F1 score :    0.83875\n'Neurons [ 15,  12], Mean F1 score :    0.84308\n'Neurons [ 15,  13], Mean F1 score :    0.84287\n'Neurons [ 15,  14], Mean F1 score :    0.84125\n'Neurons [ 15,  15], Mean F1 score :    0.83915\n'Neurons [ 15,  16], Mean F1 score :    0.84159\n'Neurons [ 15,  17], Mean F1 score :    0.84619\n'Neurons [ 15,  18], Mean F1 score :    0.83580\n'Neurons [ 15,  19], Mean F1 score :    0.84183\n",
          "output_type": "stream"
        }
      ]
    },
    {
      "cell_type": "markdown",
      "source": [
        "**Trying 3 layer setup**"
      ],
      "metadata": {
        "id": "efUUrbbKB6am"
      }
    },
    {
      "cell_type": "code",
      "source": [
        "depthOfNetwork = 4\n",
        "neuronCountInEachLayer = [15, 8, 5, 1]                                 # try different depth and width\n",
        "activationFuncEachLayer = ['tanh', 'tanh', 'tanh','sigmoid']            # try values relu, sigmoid, talh\n",
        "lossFunction = 'binary_crossentropy'                                # try values binary_crossentropy, mean_squared_error\n",
        "regularizerFunc = tf.keras.regularizers.l2(0)                       # try l1 and l2 with different lambda\n",
        "\n",
        "print(\"'Neurons [% 3d, % 3d, % 3d], Mean F1 score : % 10.5f\" %(3, 4, 3, evaluateTheModel())) "
      ],
      "metadata": {
        "execution": {
          "iopub.status.busy": "2022-09-21T11:11:46.008129Z",
          "iopub.execute_input": "2022-09-21T11:11:46.008482Z",
          "iopub.status.idle": "2022-09-21T11:12:06.218416Z",
          "shell.execute_reply.started": "2022-09-21T11:11:46.008428Z",
          "shell.execute_reply": "2022-09-21T11:12:06.217179Z"
        },
        "trusted": true,
        "id": "NtlieuMgB6an",
        "outputId": "da4bba8d-2e43-4c1c-d4bf-3fb32e01ef6c"
      },
      "execution_count": null,
      "outputs": [
        {
          "name": "stdout",
          "text": "'Neurons [  3,   4,   3], Mean F1 score :    0.85578\n",
          "output_type": "stream"
        }
      ]
    },
    {
      "cell_type": "markdown",
      "source": [
        "**Adding regularization to minimize overfitting**\n",
        "\n",
        "https://machinelearningmastery.com/how-to-reduce-generalization-error-in-deep-neural-networks-with-activity-regularization-in-keras/\n",
        "\n",
        "https://stats.stackexchange.com/questions/431898/l2-lambdas-in-keras-regularizers"
      ],
      "metadata": {
        "id": "WEbLw-4mB6an"
      }
    },
    {
      "cell_type": "markdown",
      "source": [
        "**Network configuration selected from the above is as below**"
      ],
      "metadata": {
        "id": "O6WpLcHzB6ao"
      }
    },
    {
      "cell_type": "code",
      "source": [
        "depthOfNetwork = 2\n",
        "neuronCountInEachLayer = [15, 1]                                 # try different depth and width\n",
        "activationFuncEachLayer = ['tanh', 'sigmoid']            # try values relu, sigmoid, talh\n",
        "lossFunction = 'binary_crossentropy'                                # try values binary_crossentropy, mean_squared_error\n",
        "regularizerFunc = tf.keras.regularizers.l2(0)                       # try l1 and l2 with different lambda\n",
        "\n",
        "print(\"'Mean F1 score : % 10.5f\" %(evaluateTheModel())) "
      ],
      "metadata": {
        "execution": {
          "iopub.status.busy": "2022-09-21T11:12:24.174491Z",
          "iopub.execute_input": "2022-09-21T11:12:24.174919Z",
          "iopub.status.idle": "2022-09-21T11:12:42.267554Z",
          "shell.execute_reply.started": "2022-09-21T11:12:24.174878Z",
          "shell.execute_reply": "2022-09-21T11:12:42.266575Z"
        },
        "trusted": true,
        "id": "wZOmanNIB6ao",
        "outputId": "05488d04-2dda-416f-c163-5793376b5b42"
      },
      "execution_count": null,
      "outputs": [
        {
          "name": "stdout",
          "text": "'Mean F1 score :    0.85043\n",
          "output_type": "stream"
        }
      ]
    },
    {
      "cell_type": "markdown",
      "source": [
        "**L1 regularizer with different lambda values**"
      ],
      "metadata": {
        "id": "jja4KrpWB6ap"
      }
    },
    {
      "cell_type": "code",
      "source": [
        "depthOfNetwork = 2\n",
        "neuronCountInEachLayer = [15,1]                                 # try different depth and width\n",
        "activationFuncEachLayer = ['tanh', 'sigmoid']            # try values relu, sigmoid, talh\n",
        "lossFunction = 'binary_crossentropy'                                # try values binary_crossentropy, mean_squared_error\n",
        "regularizerFunc = tf.keras.regularizers.l1(0)                       # try l1 and l2 with different lambda\n",
        "\n",
        "for i in range(-5,5):\n",
        "    regularizerFunc = tf.keras.regularizers.l1(10**i)\n",
        "    print(\"'Regularizor : l1 with lambda : % 10.5f , Mean F1 score : % 10.5f\" %(10**i, evaluateTheModel()))"
      ],
      "metadata": {
        "execution": {
          "iopub.status.busy": "2022-09-21T11:25:08.003799Z",
          "iopub.execute_input": "2022-09-21T11:25:08.004189Z",
          "iopub.status.idle": "2022-09-21T11:28:21.032476Z",
          "shell.execute_reply.started": "2022-09-21T11:25:08.004137Z",
          "shell.execute_reply": "2022-09-21T11:28:21.031562Z"
        },
        "trusted": true,
        "id": "havDKKivB6aq",
        "outputId": "a5d634d2-ebec-4231-c030-e3c7956ffca0"
      },
      "execution_count": null,
      "outputs": [
        {
          "name": "stdout",
          "text": "'Regularizor : l1 with lambda :    0.00001 , Mean F1 score :    0.84757\n'Regularizor : l1 with lambda :    0.00010 , Mean F1 score :    0.85394\n'Regularizor : l1 with lambda :    0.00100 , Mean F1 score :    0.85352\n'Regularizor : l1 with lambda :    0.01000 , Mean F1 score :    0.84891\n'Regularizor : l1 with lambda :    0.10000 , Mean F1 score :    0.85188\n",
          "output_type": "stream"
        },
        {
          "name": "stderr",
          "text": "/opt/conda/lib/python3.6/site-packages/sklearn/metrics/classification.py:1437: UndefinedMetricWarning: F-score is ill-defined and being set to 0.0 in labels with no predicted samples.\n  'precision', 'predicted', average, warn_for)\n",
          "output_type": "stream"
        },
        {
          "name": "stdout",
          "text": "'Regularizor : l1 with lambda :    1.00000 , Mean F1 score :    0.35694\n",
          "output_type": "stream"
        },
        {
          "name": "stderr",
          "text": "/opt/conda/lib/python3.6/site-packages/sklearn/metrics/classification.py:1437: UndefinedMetricWarning: F-score is ill-defined and being set to 0.0 in labels with no predicted samples.\n  'precision', 'predicted', average, warn_for)\n",
          "output_type": "stream"
        },
        {
          "name": "stdout",
          "text": "'Regularizor : l1 with lambda :   10.00000 , Mean F1 score :    0.35694\n",
          "output_type": "stream"
        },
        {
          "name": "stderr",
          "text": "/opt/conda/lib/python3.6/site-packages/sklearn/metrics/classification.py:1437: UndefinedMetricWarning: F-score is ill-defined and being set to 0.0 in labels with no predicted samples.\n  'precision', 'predicted', average, warn_for)\n",
          "output_type": "stream"
        },
        {
          "name": "stdout",
          "text": "'Regularizor : l1 with lambda :  100.00000 , Mean F1 score :    0.35694\n",
          "output_type": "stream"
        },
        {
          "name": "stderr",
          "text": "/opt/conda/lib/python3.6/site-packages/sklearn/metrics/classification.py:1437: UndefinedMetricWarning: F-score is ill-defined and being set to 0.0 in labels with no predicted samples.\n  'precision', 'predicted', average, warn_for)\n",
          "output_type": "stream"
        },
        {
          "name": "stdout",
          "text": "'Regularizor : l1 with lambda :  1000.00000 , Mean F1 score :    0.35694\n",
          "output_type": "stream"
        },
        {
          "name": "stderr",
          "text": "/opt/conda/lib/python3.6/site-packages/sklearn/metrics/classification.py:1437: UndefinedMetricWarning: F-score is ill-defined and being set to 0.0 in labels with no predicted samples.\n  'precision', 'predicted', average, warn_for)\n",
          "output_type": "stream"
        },
        {
          "name": "stdout",
          "text": "'Regularizor : l1 with lambda :  10000.00000 , Mean F1 score :    0.35694\n",
          "output_type": "stream"
        }
      ]
    },
    {
      "cell_type": "markdown",
      "source": [
        "**L2 regularizer with different lambda values**"
      ],
      "metadata": {
        "id": "ThOn26H-B6as"
      }
    },
    {
      "cell_type": "code",
      "source": [
        "depthOfNetwork = 2\n",
        "neuronCountInEachLayer = [15,1]                                 # try different depth and width\n",
        "activationFuncEachLayer = ['tanh', 'sigmoid']            # try values relu, sigmoid, talh\n",
        "lossFunction = 'binary_crossentropy'                                # try values binary_crossentropy, mean_squared_error\n",
        "regularizerFunc = tf.keras.regularizers.l2(0)                       # try l1 and l2 with different lambda\n",
        "\n",
        "for i in range(-5,5):\n",
        "    regularizerFunc = tf.keras.regularizers.l2(10**i)\n",
        "    print(\"'Regularizor : l2 with lambda : % 10.5f , Mean F1 score : % 10.5f\" %(10**i, evaluateTheModel()))"
      ],
      "metadata": {
        "execution": {
          "iopub.status.busy": "2022-09-21T11:29:07.841604Z",
          "iopub.execute_input": "2022-09-21T11:29:07.841961Z",
          "iopub.status.idle": "2022-09-21T11:32:15.503039Z",
          "shell.execute_reply.started": "2022-09-21T11:29:07.841898Z",
          "shell.execute_reply": "2022-09-21T11:32:15.501941Z"
        },
        "trusted": true,
        "id": "8vcuYJltB6as",
        "outputId": "69cbc75a-0727-419c-afce-b4b848b38f7c"
      },
      "execution_count": null,
      "outputs": [
        {
          "name": "stdout",
          "text": "'Regularizor : l2 with lambda :    0.00001 , Mean F1 score :    0.85237\n'Regularizor : l2 with lambda :    0.00010 , Mean F1 score :    0.84767\n'Regularizor : l2 with lambda :    0.00100 , Mean F1 score :    0.85369\n'Regularizor : l2 with lambda :    0.01000 , Mean F1 score :    0.85207\n'Regularizor : l2 with lambda :    0.10000 , Mean F1 score :    0.84745\n'Regularizor : l2 with lambda :    1.00000 , Mean F1 score :    0.82072\n",
          "output_type": "stream"
        },
        {
          "name": "stderr",
          "text": "/opt/conda/lib/python3.6/site-packages/sklearn/metrics/classification.py:1437: UndefinedMetricWarning: F-score is ill-defined and being set to 0.0 in labels with no predicted samples.\n  'precision', 'predicted', average, warn_for)\n",
          "output_type": "stream"
        },
        {
          "name": "stdout",
          "text": "'Regularizor : l2 with lambda :   10.00000 , Mean F1 score :    0.35694\n",
          "output_type": "stream"
        },
        {
          "name": "stderr",
          "text": "/opt/conda/lib/python3.6/site-packages/sklearn/metrics/classification.py:1437: UndefinedMetricWarning: F-score is ill-defined and being set to 0.0 in labels with no predicted samples.\n  'precision', 'predicted', average, warn_for)\n",
          "output_type": "stream"
        },
        {
          "name": "stdout",
          "text": "'Regularizor : l2 with lambda :  100.00000 , Mean F1 score :    0.35694\n",
          "output_type": "stream"
        },
        {
          "name": "stderr",
          "text": "/opt/conda/lib/python3.6/site-packages/sklearn/metrics/classification.py:1437: UndefinedMetricWarning: F-score is ill-defined and being set to 0.0 in labels with no predicted samples.\n  'precision', 'predicted', average, warn_for)\n",
          "output_type": "stream"
        },
        {
          "name": "stdout",
          "text": "'Regularizor : l2 with lambda :  1000.00000 , Mean F1 score :    0.35694\n",
          "output_type": "stream"
        },
        {
          "name": "stderr",
          "text": "/opt/conda/lib/python3.6/site-packages/sklearn/metrics/classification.py:1437: UndefinedMetricWarning: F-score is ill-defined and being set to 0.0 in labels with no predicted samples.\n  'precision', 'predicted', average, warn_for)\n",
          "output_type": "stream"
        },
        {
          "name": "stdout",
          "text": "'Regularizor : l2 with lambda :  10000.00000 , Mean F1 score :    0.35694\n",
          "output_type": "stream"
        }
      ]
    }
  ]
}